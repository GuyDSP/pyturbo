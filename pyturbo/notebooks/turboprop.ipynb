{
 "cells": [
  {
   "cell_type": "code",
   "execution_count": null,
   "id": "d8ea1688-af6a-473c-a96a-b16b4eb87db9",
   "metadata": {},
   "outputs": [],
   "source": [
    "from pyturbo.systems.turboprop import Turboprop\n",
    "tp= Turboprop(\"sys\")\n",
    "tp"
   ]
  },
  {
   "cell_type": "code",
   "execution_count": null,
   "id": "849db332-f52b-4865-a4c7-038466a0c490",
   "metadata": {},
   "outputs": [],
   "source": [
    "# geometrical view\n",
    "tp.run_once()\n",
    "\n",
    "tp.jupyter_view(options={\n",
    "    \"core_cowl\": dict(opacity=0.7),\n",
    "    \"core\": dict(face_color=\"red\", opacity=0.9),\n",
    "    \"propeller\": dict(face_color=\"#92B4EC\", opacity=0.9),\n",
    "})"
   ]
  }
 ],
 "metadata": {
  "kernelspec": {
   "display_name": "Python 3 (ipykernel)",
   "language": "python",
   "name": "python3"
  },
  "language_info": {
   "codemirror_mode": {
    "name": "ipython",
    "version": 3
   },
   "file_extension": ".py",
   "mimetype": "text/x-python",
   "name": "python",
   "nbconvert_exporter": "python",
   "pygments_lexer": "ipython3",
   "version": "3.10.6"
  }
 },
 "nbformat": 4,
 "nbformat_minor": 5
}
