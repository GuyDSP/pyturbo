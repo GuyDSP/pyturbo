{
  "cells": [
    {
      "cell_type": "markdown",
      "id": "ba8b4132-1828-48fa-bf8c-1a1edbcac52f",
      "metadata": {},
      "source": [
        "# Turbofan Tutorial\n",
        "`pyturbo`  library is provided by twiinIT to assembly a simple turbofan system.\n",
        "\n",
        "The library is made of components: \n",
        "\n",
        "- `compressor` : fluid out is computed from fluid in and power provided by shaft with constant efficiency. \n",
        "- `combustor` : combustion is made considering constant FHV.\n",
        "- `turbine` : power is extracted from fluid in considering a given expansion ratio and constant efficiency. \n",
        "- `inlet` and `nozzle` are computing `drag` and `thrust` from fluid conditions, ambiant pressure and throat section. \n",
        "- `nacelle`: envelop over the engine.\n",
        "- `ogv`, `intermediate_casing` and `trf` and structures with aero channels. \n",
        "\n",
        "They are numerical components:\n",
        "\n",
        "- `fluid_spitter` is used to split the flow into primary and secondary flow\n",
        "- `shaft_spitter` is used to split the shaft power into booster and fan compressor"
      ]
    },
    {
      "cell_type": "markdown",
      "id": "11f89b4c-b79b-45f7-8194-02d6a492fd23",
      "metadata": {},
      "source": [
        "A turbofan system is generated."
      ]
    },
    {
      "cell_type": "code",
      "execution_count": null,
      "id": "65abf53d-7674-489d-bdaf-cf2b8444b0b0",
      "metadata": {},
      "outputs": [],
      "source": [
        "from pyturbo.systems import Turbofan\n",
        "\n",
        "tf = Turbofan(\"tf\")\n",
        "tf.run_once()\n",
        "\n",
        "# view\n",
        "tf.view_system()"
      ]
    },
    {
      "cell_type": "markdown",
      "id": "f1d08e45-272d-4ae3-a844-902853f6f2d5",
      "metadata": {},
      "source": [
        "# Simulation\n",
        "\n",
        "The turbofan system has a couple of equations/unknowns to solve. We use `cosapp` non-linear solver for this purpose."
      ]
    },
    {
      "cell_type": "code",
      "execution_count": null,
      "id": "52315346-1984-4c58-9d9b-73499219fd63",
      "metadata": {},
      "outputs": [],
      "source": [
        "from cosapp.drivers import NonLinearSolver"
      ]
    },
    {
      "cell_type": "markdown",
      "id": "34ea90e8-ecac-4e4f-8c64-14eeb25d7084",
      "metadata": {},
      "source": [
        "## Direct mode\n",
        "`thrust` is computed from `fuel_W`."
      ]
    },
    {
      "cell_type": "code",
      "execution_count": null,
      "id": "7c17a20c-05f7-40ad-9f99-02d02d0f3fd4",
      "metadata": {},
      "outputs": [],
      "source": [
        "%%time\n",
        "tf.add_driver(NonLinearSolver('solver', tol = 1e-6))\n",
        "\n",
        "# environment conditions\n",
        "tf.fuel_W = 1.0\n",
        "\n",
        "# run\n",
        "tf.run_drivers()\n",
        "\n",
        "print('fuel_W =', round(tf.fuel_W, 2), 'kg/s')\n",
        "print('thrust =', round(tf.thrust/1e3), 'kN')\n",
        "print('N1 =', round(tf.N1), \"rpm\")"
      ]
    },
    {
      "cell_type": "markdown",
      "id": "913e49f5-1c9f-4c19-a282-466462946e01",
      "metadata": {},
      "source": [
        "## Control mode\n",
        "`fuel_W` is computed to match functional request, here the fan rotational speed `N1` value."
      ]
    },
    {
      "cell_type": "code",
      "execution_count": null,
      "id": "506c3481-bffe-4d99-9a13-931f8800a00d",
      "metadata": {},
      "outputs": [],
      "source": [
        "solver = tf.add_driver(NonLinearSolver('solver', tol=1e-6))\n",
        "solver.extend(tf.design_methods[\"control_mode\"])\n",
        "\n",
        "# use case\n",
        "tf.N1 = 5000.\n",
        "\n",
        "# run\n",
        "tf.run_drivers()\n",
        "\n",
        "print('thrust =', round(tf.thrust/1e3), 'kN')\n",
        "print('N1 =', round(tf.N1), \"rpm\")"
      ]
    },
    {
      "cell_type": "markdown",
      "id": "2d5e685f-7cca-4ac9-8c01-df287bdc7adc",
      "metadata": {},
      "source": [
        "# Design mode"
      ]
    },
    {
      "cell_type": "markdown",
      "id": "207b793f-d820-44d0-a560-2e58845b2a1f",
      "metadata": {},
      "source": [
        "## Update technical requirements\n",
        "\n",
        "Turbofan design characteristics are related to components and physical properties."
      ]
    },
    {
      "cell_type": "code",
      "execution_count": null,
      "id": "ddc4bc43-8b65-4af5-b69d-e9c6b32f693e",
      "metadata": {},
      "outputs": [],
      "source": [
        "# design solver\n",
        "solver = tf.add_driver(NonLinearSolver('solver', tol=1e-6))\n",
        "solver.extend(tf.design_methods['scaling'])\n",
        "\n",
        "# engine state of the art\n",
        "tf.core.combustor.Tcomb += 100.0\n",
        "\n",
        "tf.run_drivers()\n",
        "\n",
        "print('fan diameter =', round(tf.geom.fan_diameter, 2), 'm')\n",
        "print('thrust =', round(tf.thrust/1e3), 'kN')\n",
        "print('N1 =', round(tf.N1), \"rpm\")"
      ]
    },
    {
      "cell_type": "markdown",
      "id": "9e61c8b6-e78e-4e63-a8d3-b9a2b8e9ef0e",
      "metadata": {},
      "source": [
        "## Update functional requirments"
      ]
    },
    {
      "cell_type": "code",
      "execution_count": null,
      "id": "4ea41fa5-3f9f-4181-9d5f-18c9b5608005",
      "metadata": {},
      "outputs": [],
      "source": [
        "# engine\n",
        "tf.thrust += 10e3\n",
        "tf.run_drivers()\n",
        "\n",
        "print('fan diameter =', round(tf.geom.fan_diameter, 2), 'm')\n",
        "print('thrust =', round(tf.thrust/1e3), 'kN')\n",
        "print('N1 =', round(tf.N1), \"rpm\")"
      ]
    },
    {
      "cell_type": "markdown",
      "id": "71866bce",
      "metadata": {},
      "source": [
        "## Off-design computation after design\n",
        "\n",
        "Fuel consumption for a given altitude/mach/dtamb and thrust. "
      ]
    },
    {
      "cell_type": "code",
      "execution_count": null,
      "id": "8de8788d-9b5f-4b39-b377-2b025ad43672",
      "metadata": {},
      "outputs": [],
      "source": [
        "# off-design mode\n",
        "solver = tf.add_driver(NonLinearSolver('solver', tol=1e-6))\n",
        "solver.extend(tf.design_methods[\"control_mode\"])\n",
        "\n",
        "# use case\n",
        "tf.init_environment(mach=0.8, alt=10000.0, dtamb = 0.0)\n",
        "tf.N1 = 5000.0\n",
        "\n",
        "# run \n",
        "tf.run_drivers()\n",
        "\n",
        "print('pamb =', round(tf.pamb), 'Pa')\n",
        "print('thrust =', round(tf.thrust/1e3), 'kN')\n",
        "print('N1 =', round(tf.N1), \"rpm\")"
      ]
    }
  ],
  "metadata": {
    "kernelspec": {
      "display_name": "Python 3 (ipykernel)",
      "language": "python",
      "name": "python3"
    },
    "language_info": {
      "codemirror_mode": {
        "name": "ipython",
        "version": 3
      },
      "file_extension": ".py",
      "mimetype": "text/x-python",
      "name": "python",
      "nbconvert_exporter": "python",
      "pygments_lexer": "ipython3",
      "version": "3.11.12"
    }
  },
  "nbformat": 4,
  "nbformat_minor": 5
}
